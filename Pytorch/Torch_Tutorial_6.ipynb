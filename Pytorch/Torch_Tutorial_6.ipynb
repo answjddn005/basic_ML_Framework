{
 "cells": [
  {
   "cell_type": "markdown",
   "id": "ccb2c179",
   "metadata": {},
   "source": [
    "## SAVE AND LOAD THE MODEL"
   ]
  },
  {
   "cell_type": "code",
   "execution_count": 1,
   "id": "ff3f92c6",
   "metadata": {},
   "outputs": [],
   "source": [
    "import torch\n",
    "import torch.onnx as onnx\n",
    "import torchvision.models as models"
   ]
  },
  {
   "cell_type": "code",
   "execution_count": 3,
   "id": "cbba516f",
   "metadata": {},
   "outputs": [
    {
     "name": "stderr",
     "output_type": "stream",
     "text": [
      "Downloading: \"https://download.pytorch.org/models/vgg16-397923af.pth\" to C:\\Users\\user/.cache\\torch\\hub\\checkpoints\\vgg16-397923af.pth\n"
     ]
    },
    {
     "data": {
      "application/vnd.jupyter.widget-view+json": {
       "model_id": "f8d966e44bb84bc9a576c75c7f354dca",
       "version_major": 2,
       "version_minor": 0
      },
      "text/plain": [
       "  0%|          | 0.00/528M [00:00<?, ?B/s]"
      ]
     },
     "metadata": {},
     "output_type": "display_data"
    }
   ],
   "source": [
    "# Saving and Loading Model Weights\n",
    "\n",
    "model = models.vgg16(pretrained=True)\n",
    "torch.save(model.state_dict(), 'model_weights.pth')"
   ]
  },
  {
   "cell_type": "code",
   "execution_count": 4,
   "id": "f9f30a4a",
   "metadata": {},
   "outputs": [],
   "source": [
    "# Saving and Loading Models with Shapes\n",
    "\n",
    "torch.save(model, 'model.pth')"
   ]
  },
  {
   "cell_type": "code",
   "execution_count": 5,
   "id": "b77443b7",
   "metadata": {},
   "outputs": [],
   "source": [
    "model = torch.load('model.pth')"
   ]
  },
  {
   "cell_type": "code",
   "execution_count": 6,
   "id": "1b0c24d4",
   "metadata": {},
   "outputs": [],
   "source": [
    "# Exporting Model to ONNX\n",
    "\n",
    "input_image = torch.zeros((1, 3, 224, 224))\n",
    "onnx.export(model, input_image, 'model.onnx')"
   ]
  }
 ],
 "metadata": {
  "kernelspec": {
   "display_name": "Python 3",
   "language": "python",
   "name": "python3"
  },
  "language_info": {
   "codemirror_mode": {
    "name": "ipython",
    "version": 3
   },
   "file_extension": ".py",
   "mimetype": "text/x-python",
   "name": "python",
   "nbconvert_exporter": "python",
   "pygments_lexer": "ipython3",
   "version": "3.8.8"
  }
 },
 "nbformat": 4,
 "nbformat_minor": 5
}
