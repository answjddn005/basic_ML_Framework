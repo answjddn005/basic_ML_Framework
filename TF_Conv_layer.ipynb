{
 "cells": [
  {
   "attachments": {},
   "cell_type": "markdown",
   "metadata": {},
   "source": [
    "# Conv_layers"
   ]
  },
  {
   "cell_type": "code",
   "execution_count": 4,
   "metadata": {},
   "outputs": [
    {
     "name": "stdout",
     "output_type": "stream",
     "text": [
      "(32, 28, 28, 5)\n",
      "(3, 3, 5, 10) (10,)\n",
      "(32, 26, 26, 10)\n"
     ]
    }
   ],
   "source": [
    "import tensorflow as tf\n",
    "from tensorflow.keras.layers import Conv2D\n",
    "\n",
    "N, n_H, n_W, n_C = 32, 28, 28, 5\n",
    "n_filter = 10\n",
    "k_size = 3\n",
    "\n",
    "images = tf.random.uniform(minval=0, maxval=1,\n",
    "                          shape=((N, n_H, n_W, n_C)))\n",
    "\n",
    "conv = Conv2D(filters=n_filter, kernel_size=k_size)\n",
    "\n",
    "output = conv(images)\n",
    "\n",
    "W, B = conv.get_weights()\n",
    "\n",
    "print(images.shape)\n",
    "print(W.shape, B.shape)\n",
    "print(output.shape)"
   ]
  },
  {
   "cell_type": "code",
   "execution_count": 5,
   "metadata": {},
   "outputs": [
    {
     "name": "stdout",
     "output_type": "stream",
     "text": [
      "Output(Tensorflow): \n",
      " [[ 0.57070434  0.30159354  0.5343246 ]\n",
      " [ 0.2468829  -0.02323267  0.2600533 ]\n",
      " [-0.44060054 -0.39378458 -0.10270729]]\n",
      "Output(Manual): \n",
      " [[ 0.57070434  0.3015936   0.53432471]\n",
      " [ 0.246883   -0.02323264  0.26005325]\n",
      " [-0.44060057 -0.39378455 -0.10270725]]\n"
     ]
    }
   ],
   "source": [
    "import numpy as np\n",
    "\n",
    "N, n_H, n_W, n_C = 1, 5, 5, 3\n",
    "n_filter = 1\n",
    "k_size = 3\n",
    "\n",
    "images = tf.random.uniform(minval=0, maxval=1,\n",
    "                          shape=((N, n_H, n_W, n_C)))\n",
    "\n",
    "conv = Conv2D(filters=n_filter, kernel_size=k_size)\n",
    "\n",
    "output = conv(images)\n",
    "print(\"Output(Tensorflow): \\n\", output.numpy().squeeze())\n",
    "W, B = conv.get_weights()\n",
    "\n",
    "\n",
    "images = images.numpy().squeeze()\n",
    "W = W.squeeze()\n",
    "#print(images.shape)\n",
    "#print(W.shape)\n",
    "#print(B.shape)\n",
    "\n",
    "output_man = np.zeros(shape=(n_H - k_size + 1, n_W - k_size + 1))\n",
    "\n",
    "for i in range(n_H - k_size + 1):\n",
    "  for j in range(n_W - k_size + 1):\n",
    "    window = images[i : i+k_size, j : j+k_size : ]\n",
    "    output_man[i, j] = np.sum(window*W) + B\n",
    "\n",
    "\n",
    "print(\"Output(Manual): \\n\", output_man)"
   ]
  },
  {
   "attachments": {},
   "cell_type": "markdown",
   "metadata": {},
   "source": [
    "# Conv_layers_with_filters"
   ]
  },
  {
   "attachments": {},
   "cell_type": "markdown",
   "metadata": {},
   "source": [
    "# "
   ]
  },
  {
   "cell_type": "code",
   "execution_count": 3,
   "metadata": {},
   "outputs": [
    {
     "name": "stdout",
     "output_type": "stream",
     "text": [
      "Input Images: (32, 28, 28, 3)\n",
      "\n",
      "W/B: (3, 3, 3, 5) / (5,)\n",
      "Output Image: (32, 26, 26, 5)\n"
     ]
    }
   ],
   "source": [
    "import tensorflow as tf\n",
    "from tensorflow.keras.layers import Conv2D\n",
    "\n",
    "N, n_H, n_W, n_C = 32, 28, 28, 3\n",
    "n_filter = 5\n",
    "k_size = 3\n",
    "\n",
    "images = tf.random.uniform(minval=0, maxval=1,\n",
    "                           shape=((N, n_H, n_W, n_C)))\n",
    "\n",
    "conv = Conv2D(filters=n_filter, kernel_size=k_size)\n",
    "\n",
    "Y = conv(images)\n",
    "\n",
    "W, B = conv.get_weights()\n",
    "\n",
    "print(\"Input Images: {}\\n\".format(images.shape))\n",
    "print(\"W/B: {} / {}\".format(W.shape, B.shape))\n",
    "print(\"Output Image: {}\".format(Y.shape))"
   ]
  },
  {
   "cell_type": "code",
   "execution_count": 2,
   "metadata": {},
   "outputs": [
    {
     "name": "stdout",
     "output_type": "stream",
     "text": [
      "Output(Tensorflow): \n",
      " [[[0.39925215 0.32592776]\n",
      "  [0.34264806 0.45000565]]\n",
      "\n",
      " [[0.4209333  0.3975372 ]\n",
      "  [0.49071375 0.44948056]]\n",
      "\n",
      " [[0.5758597  0.28393266]\n",
      "  [0.42131698 0.47559834]]]\n",
      "Output(Manual): \n",
      " [[[0.39925216 0.32592776]\n",
      "  [0.34264807 0.45000568]]\n",
      "\n",
      " [[0.4209333  0.39753723]\n",
      "  [0.49071379 0.44948058]]\n",
      "\n",
      " [[0.57585977 0.28393264]\n",
      "  [0.42131695 0.47559835]]]\n"
     ]
    }
   ],
   "source": [
    "import numpy as np\n",
    "\n",
    "N, n_H, n_W, n_C = 1, 5, 5, 3\n",
    "n_filter = 3\n",
    "k_size = 4\n",
    "\n",
    "images = tf.random.uniform(minval=0, maxval=1,\n",
    "                           shape=((N, n_H, n_W, n_C)))\n",
    "\n",
    "\n",
    "# Forward Propagation(Tensorflow)\n",
    "conv = Conv2D(filters=n_filter, kernel_size=k_size, activation='sigmoid')\n",
    "Y = conv(images)\n",
    "\n",
    "Y = np.transpose(Y.numpy().squeeze(), (2, 0, 1))\n",
    "print(\"Output(Tensorflow): \\n\", Y)\n",
    "\n",
    "W, B = conv.get_weights()\n",
    "\n",
    "# Forward Propagation(Manual)\n",
    "images = images.numpy().squeeze()\n",
    "\n",
    "Y_man = np.zeros(shape=(n_H - k_size + 1, n_W - k_size + 1, n_filter))\n",
    "for c in range(n_filter):\n",
    "  c_W = W[:, :, :, c]\n",
    "  c_b = B[c]\n",
    "\n",
    "  for h in range(n_H - k_size + 1):\n",
    "    for j in range(n_W - k_size + 1):\n",
    "      window = images[h:h+k_size, j:j+k_size, :]\n",
    "      conv = np.sum(window*c_W) + c_b\n",
    "      conv = 1/(1 + np.exp(-conv))\n",
    "\n",
    "      Y_man[h, j, c] = conv\n",
    "\n",
    "print(\"Output(Manual): \\n\", np.transpose(Y_man, (2, 0, 1)))"
   ]
  },
  {
   "cell_type": "code",
   "execution_count": null,
   "metadata": {},
   "outputs": [],
   "source": []
  }
 ],
 "metadata": {
  "kernelspec": {
   "display_name": "God",
   "language": "python",
   "name": "python3"
  },
  "language_info": {
   "codemirror_mode": {
    "name": "ipython",
    "version": 3
   },
   "file_extension": ".py",
   "mimetype": "text/x-python",
   "name": "python",
   "nbconvert_exporter": "python",
   "pygments_lexer": "ipython3",
   "version": "3.7.16"
  },
  "orig_nbformat": 4
 },
 "nbformat": 4,
 "nbformat_minor": 2
}
