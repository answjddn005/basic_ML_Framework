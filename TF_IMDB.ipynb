{
 "cells": [
  {
   "cell_type": "code",
   "execution_count": 1,
   "metadata": {},
   "outputs": [],
   "source": [
    "import tensorflow as tf\n",
    "from tensorflow import keras\n",
    "import numpy as np\n",
    "import matplotlib.pyplot as plt"
   ]
  },
  {
   "cell_type": "code",
   "execution_count": 2,
   "metadata": {},
   "outputs": [
    {
     "name": "stdout",
     "output_type": "stream",
     "text": [
      "Downloading data from https://storage.googleapis.com/tensorflow/tf-keras-datasets/imdb.npz\n",
      "17464789/17464789 [==============================] - 10s 1us/step\n"
     ]
    }
   ],
   "source": [
    "imdb = keras.datasets.imdb\n",
    "(train_data, train_labels), (test_data, test_labels) = imdb.load_data(num_words=10000)"
   ]
  },
  {
   "cell_type": "code",
   "execution_count": 3,
   "metadata": {},
   "outputs": [
    {
     "name": "stdout",
     "output_type": "stream",
     "text": [
      "Train_smaples: 25000, lable: 25000\n"
     ]
    }
   ],
   "source": [
    "print(\"Train_smaples: {}, lable: {}\".format(len(train_data), len(train_labels)))"
   ]
  },
  {
   "cell_type": "code",
   "execution_count": 4,
   "metadata": {},
   "outputs": [
    {
     "name": "stdout",
     "output_type": "stream",
     "text": [
      "[1, 14, 22, 16, 43, 530, 973, 1622, 1385, 65, 458, 4468, 66, 3941, 4, 173, 36, 256, 5, 25, 100, 43, 838, 112, 50, 670, 2, 9, 35, 480, 284, 5, 150, 4, 172, 112, 167, 2, 336, 385, 39, 4, 172, 4536, 1111, 17, 546, 38, 13, 447, 4, 192, 50, 16, 6, 147, 2025, 19, 14, 22, 4, 1920, 4613, 469, 4, 22, 71, 87, 12, 16, 43, 530, 38, 76, 15, 13, 1247, 4, 22, 17, 515, 17, 12, 16, 626, 18, 2, 5, 62, 386, 12, 8, 316, 8, 106, 5, 4, 2223, 5244, 16, 480, 66, 3785, 33, 4, 130, 12, 16, 38, 619, 5, 25, 124, 51, 36, 135, 48, 25, 1415, 33, 6, 22, 12, 215, 28, 77, 52, 5, 14, 407, 16, 82, 2, 8, 4, 107, 117, 5952, 15, 256, 4, 2, 7, 3766, 5, 723, 36, 71, 43, 530, 476, 26, 400, 317, 46, 7, 4, 2, 1029, 13, 104, 88, 4, 381, 15, 297, 98, 32, 2071, 56, 26, 141, 6, 194, 7486, 18, 4, 226, 22, 21, 134, 476, 26, 480, 5, 144, 30, 5535, 18, 51, 36, 28, 224, 92, 25, 104, 4, 226, 65, 16, 38, 1334, 88, 12, 16, 283, 5, 16, 4472, 113, 103, 32, 15, 16, 5345, 19, 178, 32]\n"
     ]
    }
   ],
   "source": [
    "print(train_data[0])"
   ]
  },
  {
   "cell_type": "code",
   "execution_count": 7,
   "metadata": {},
   "outputs": [],
   "source": [
    "# mapping words and int index\n",
    "word_index = imdb.get_word_index()\n",
    "\n",
    "word_index = {k:(v+3) for k,v in word_index.items()}\n",
    "word_index[\"<PAD>\"] = 0\n",
    "word_index[\"<START\"] = 1\n",
    "word_index[\"<NUK\"] = 2 # nuknown\n",
    "word_index[\"<UNUSED>\"] = 3\n"
   ]
  },
  {
   "cell_type": "code",
   "execution_count": 8,
   "metadata": {},
   "outputs": [],
   "source": [
    "reverse_word_index = dict([(value, key) for (key, value) in word_index.items()])\n",
    "\n",
    "def decode_review(text):\n",
    "    return ' '.join([reverse_word_index.get(i, '?') for i in text])"
   ]
  },
  {
   "cell_type": "code",
   "execution_count": 9,
   "metadata": {},
   "outputs": [
    {
     "data": {
      "text/plain": [
       "\"<START this film was just brilliant casting location scenery story direction everyone's really suited the part they played and you could just imagine being there robert <NUK is an amazing actor and now the same being director <NUK father came from the same scottish island as myself so i loved the fact there was a real connection with this film the witty remarks throughout the film were great it was just brilliant so much that i bought the film as soon as it was released for <NUK and would recommend it to everyone to watch and the fly fishing was amazing really cried at the end it was so sad and you know what they say if you cry at a film it must have been good and this definitely was also <NUK to the two little boy's that played the <NUK of norman and paul they were just brilliant children are often left out of the <NUK list i think because the stars that play them all grown up are such a big profile for the whole film but these children are amazing and should be praised for what they have done don't you think the whole story was so lovely because it was true and was someone's life after all that was shared with us all\""
      ]
     },
     "execution_count": 9,
     "metadata": {},
     "output_type": "execute_result"
    }
   ],
   "source": [
    "decode_review(train_data[0])"
   ]
  },
  {
   "cell_type": "code",
   "execution_count": 10,
   "metadata": {},
   "outputs": [],
   "source": [
    "train_data = keras.preprocessing.sequence.pad_sequences(train_data,\n",
    "                                                        value=word_index[\"<PAD>\"],\n",
    "                                                        padding='post',\n",
    "                                                        maxlen=256)\n",
    "\n",
    "test_data = keras.preprocessing.sequence.pad_sequences(test_data,\n",
    "                                                       value=word_index[\"<PAD>\"],\n",
    "                                                       padding='post',\n",
    "                                                       maxlen=256)"
   ]
  },
  {
   "cell_type": "code",
   "execution_count": 11,
   "metadata": {},
   "outputs": [
    {
     "name": "stdout",
     "output_type": "stream",
     "text": [
      "[   1   14   22   16   43  530  973 1622 1385   65  458 4468   66 3941\n",
      "    4  173   36  256    5   25  100   43  838  112   50  670    2    9\n",
      "   35  480  284    5  150    4  172  112  167    2  336  385   39    4\n",
      "  172 4536 1111   17  546   38   13  447    4  192   50   16    6  147\n",
      " 2025   19   14   22    4 1920 4613  469    4   22   71   87   12   16\n",
      "   43  530   38   76   15   13 1247    4   22   17  515   17   12   16\n",
      "  626   18    2    5   62  386   12    8  316    8  106    5    4 2223\n",
      " 5244   16  480   66 3785   33    4  130   12   16   38  619    5   25\n",
      "  124   51   36  135   48   25 1415   33    6   22   12  215   28   77\n",
      "   52    5   14  407   16   82    2    8    4  107  117 5952   15  256\n",
      "    4    2    7 3766    5  723   36   71   43  530  476   26  400  317\n",
      "   46    7    4    2 1029   13  104   88    4  381   15  297   98   32\n",
      " 2071   56   26  141    6  194 7486   18    4  226   22   21  134  476\n",
      "   26  480    5  144   30 5535   18   51   36   28  224   92   25  104\n",
      "    4  226   65   16   38 1334   88   12   16  283    5   16 4472  113\n",
      "  103   32   15   16 5345   19  178   32    0    0    0    0    0    0\n",
      "    0    0    0    0    0    0    0    0    0    0    0    0    0    0\n",
      "    0    0    0    0    0    0    0    0    0    0    0    0    0    0\n",
      "    0    0    0    0]\n"
     ]
    }
   ],
   "source": [
    "print(train_data[0])"
   ]
  },
  {
   "cell_type": "code",
   "execution_count": 12,
   "metadata": {},
   "outputs": [
    {
     "name": "stdout",
     "output_type": "stream",
     "text": [
      "Model: \"sequential\"\n",
      "_________________________________________________________________\n",
      " Layer (type)                Output Shape              Param #   \n",
      "=================================================================\n",
      " embedding (Embedding)       (None, None, 16)          160000    \n",
      "                                                                 \n",
      " global_average_pooling1d (G  (None, 16)               0         \n",
      " lobalAveragePooling1D)                                          \n",
      "                                                                 \n",
      " dense (Dense)               (None, 16)                272       \n",
      "                                                                 \n",
      " dense_1 (Dense)             (None, 1)                 17        \n",
      "                                                                 \n",
      "=================================================================\n",
      "Total params: 160,289\n",
      "Trainable params: 160,289\n",
      "Non-trainable params: 0\n",
      "_________________________________________________________________\n"
     ]
    }
   ],
   "source": [
    "vocab_size = 10000\n",
    "\n",
    "model = keras.Sequential()\n",
    "model.add(keras.layers.Embedding(vocab_size, 16, input_shape=(None,)))\n",
    "model.add(keras.layers.GlobalAveragePooling1D())\n",
    "model.add(keras.layers.Dense(16, activation='relu'))\n",
    "model.add(keras.layers.Dense(1, activation='sigmoid'))\n",
    "\n",
    "model.summary()\n"
   ]
  },
  {
   "cell_type": "code",
   "execution_count": 13,
   "metadata": {},
   "outputs": [],
   "source": [
    "model.compile(optimizer='adam',\n",
    "              loss='binary_crossentropy',\n",
    "              metrics=['accuracy'])"
   ]
  },
  {
   "cell_type": "code",
   "execution_count": 14,
   "metadata": {},
   "outputs": [],
   "source": [
    "x_val = train_data[:10000]\n",
    "partial_x_train = train_data[10000:]\n",
    "y_val = train_labels[:10000]\n",
    "partial_y_train = train_labels[10000:]"
   ]
  },
  {
   "cell_type": "code",
   "execution_count": 15,
   "metadata": {},
   "outputs": [
    {
     "name": "stdout",
     "output_type": "stream",
     "text": [
      "Epoch 1/40\n",
      "30/30 [==============================] - 2s 44ms/step - loss: 0.6918 - accuracy: 0.5782 - val_loss: 0.6898 - val_accuracy: 0.6165\n",
      "Epoch 2/40\n",
      "30/30 [==============================] - 1s 29ms/step - loss: 0.6852 - accuracy: 0.6672 - val_loss: 0.6800 - val_accuracy: 0.7011\n",
      "Epoch 3/40\n",
      "30/30 [==============================] - 1s 19ms/step - loss: 0.6708 - accuracy: 0.7320 - val_loss: 0.6625 - val_accuracy: 0.7534\n",
      "Epoch 4/40\n",
      "30/30 [==============================] - 1s 17ms/step - loss: 0.6459 - accuracy: 0.7766 - val_loss: 0.6342 - val_accuracy: 0.7709\n",
      "Epoch 5/40\n",
      "30/30 [==============================] - 1s 18ms/step - loss: 0.6097 - accuracy: 0.7918 - val_loss: 0.5962 - val_accuracy: 0.7867\n",
      "Epoch 6/40\n",
      "30/30 [==============================] - 1s 19ms/step - loss: 0.5645 - accuracy: 0.8113 - val_loss: 0.5538 - val_accuracy: 0.8024\n",
      "Epoch 7/40\n",
      "30/30 [==============================] - 1s 28ms/step - loss: 0.5159 - accuracy: 0.8299 - val_loss: 0.5083 - val_accuracy: 0.8214\n",
      "Epoch 8/40\n",
      "30/30 [==============================] - 1s 22ms/step - loss: 0.4673 - accuracy: 0.8484 - val_loss: 0.4667 - val_accuracy: 0.8353\n",
      "Epoch 9/40\n",
      "30/30 [==============================] - 1s 19ms/step - loss: 0.4231 - accuracy: 0.8634 - val_loss: 0.4303 - val_accuracy: 0.8449\n",
      "Epoch 10/40\n",
      "30/30 [==============================] - 1s 20ms/step - loss: 0.3850 - accuracy: 0.8743 - val_loss: 0.4013 - val_accuracy: 0.8525\n",
      "Epoch 11/40\n",
      "30/30 [==============================] - 1s 19ms/step - loss: 0.3532 - accuracy: 0.8833 - val_loss: 0.3768 - val_accuracy: 0.8597\n",
      "Epoch 12/40\n",
      "30/30 [==============================] - 1s 19ms/step - loss: 0.3265 - accuracy: 0.8909 - val_loss: 0.3579 - val_accuracy: 0.8665\n",
      "Epoch 13/40\n",
      "30/30 [==============================] - 1s 31ms/step - loss: 0.3041 - accuracy: 0.8979 - val_loss: 0.3428 - val_accuracy: 0.8691\n",
      "Epoch 14/40\n",
      "30/30 [==============================] - 1s 26ms/step - loss: 0.2850 - accuracy: 0.9030 - val_loss: 0.3308 - val_accuracy: 0.8721\n",
      "Epoch 15/40\n",
      "30/30 [==============================] - 1s 20ms/step - loss: 0.2683 - accuracy: 0.9071 - val_loss: 0.3213 - val_accuracy: 0.8760\n",
      "Epoch 16/40\n",
      "30/30 [==============================] - 1s 28ms/step - loss: 0.2532 - accuracy: 0.9114 - val_loss: 0.3129 - val_accuracy: 0.8796\n",
      "Epoch 17/40\n",
      "30/30 [==============================] - 1s 21ms/step - loss: 0.2399 - accuracy: 0.9175 - val_loss: 0.3068 - val_accuracy: 0.8764\n",
      "Epoch 18/40\n",
      "30/30 [==============================] - 1s 21ms/step - loss: 0.2277 - accuracy: 0.9217 - val_loss: 0.3010 - val_accuracy: 0.8792\n",
      "Epoch 19/40\n",
      "30/30 [==============================] - 1s 20ms/step - loss: 0.2163 - accuracy: 0.9262 - val_loss: 0.2967 - val_accuracy: 0.8822\n",
      "Epoch 20/40\n",
      "30/30 [==============================] - 1s 33ms/step - loss: 0.2058 - accuracy: 0.9302 - val_loss: 0.2938 - val_accuracy: 0.8816\n",
      "Epoch 21/40\n",
      "30/30 [==============================] - 1s 27ms/step - loss: 0.1968 - accuracy: 0.9328 - val_loss: 0.2903 - val_accuracy: 0.8836\n",
      "Epoch 22/40\n",
      "30/30 [==============================] - 1s 19ms/step - loss: 0.1875 - accuracy: 0.9374 - val_loss: 0.2893 - val_accuracy: 0.8830\n",
      "Epoch 23/40\n",
      "30/30 [==============================] - 1s 20ms/step - loss: 0.1795 - accuracy: 0.9412 - val_loss: 0.2869 - val_accuracy: 0.8851\n",
      "Epoch 24/40\n",
      "30/30 [==============================] - 1s 26ms/step - loss: 0.1715 - accuracy: 0.9450 - val_loss: 0.2864 - val_accuracy: 0.8839\n",
      "Epoch 25/40\n",
      "30/30 [==============================] - 1s 21ms/step - loss: 0.1641 - accuracy: 0.9481 - val_loss: 0.2854 - val_accuracy: 0.8848\n",
      "Epoch 26/40\n",
      "30/30 [==============================] - 1s 20ms/step - loss: 0.1573 - accuracy: 0.9513 - val_loss: 0.2868 - val_accuracy: 0.8841\n",
      "Epoch 27/40\n",
      "30/30 [==============================] - 1s 21ms/step - loss: 0.1515 - accuracy: 0.9531 - val_loss: 0.2861 - val_accuracy: 0.8866\n",
      "Epoch 28/40\n",
      "30/30 [==============================] - 1s 34ms/step - loss: 0.1448 - accuracy: 0.9563 - val_loss: 0.2862 - val_accuracy: 0.8853\n",
      "Epoch 29/40\n",
      "30/30 [==============================] - 1s 17ms/step - loss: 0.1390 - accuracy: 0.9575 - val_loss: 0.2870 - val_accuracy: 0.8863\n",
      "Epoch 30/40\n",
      "30/30 [==============================] - 1s 18ms/step - loss: 0.1333 - accuracy: 0.9610 - val_loss: 0.2892 - val_accuracy: 0.8842\n",
      "Epoch 31/40\n",
      "30/30 [==============================] - 1s 20ms/step - loss: 0.1282 - accuracy: 0.9628 - val_loss: 0.2898 - val_accuracy: 0.8871\n",
      "Epoch 32/40\n",
      "30/30 [==============================] - 1s 20ms/step - loss: 0.1232 - accuracy: 0.9646 - val_loss: 0.2916 - val_accuracy: 0.8863\n",
      "Epoch 33/40\n",
      "30/30 [==============================] - 1s 18ms/step - loss: 0.1180 - accuracy: 0.9667 - val_loss: 0.2946 - val_accuracy: 0.8842\n",
      "Epoch 34/40\n",
      "30/30 [==============================] - 1s 19ms/step - loss: 0.1137 - accuracy: 0.9681 - val_loss: 0.2961 - val_accuracy: 0.8849\n",
      "Epoch 35/40\n",
      "30/30 [==============================] - 1s 30ms/step - loss: 0.1093 - accuracy: 0.9687 - val_loss: 0.2983 - val_accuracy: 0.8854\n",
      "Epoch 36/40\n",
      "30/30 [==============================] - 1s 23ms/step - loss: 0.1049 - accuracy: 0.9717 - val_loss: 0.3011 - val_accuracy: 0.8844\n",
      "Epoch 37/40\n",
      "30/30 [==============================] - 1s 23ms/step - loss: 0.1011 - accuracy: 0.9725 - val_loss: 0.3040 - val_accuracy: 0.8849\n",
      "Epoch 38/40\n",
      "30/30 [==============================] - 1s 19ms/step - loss: 0.0971 - accuracy: 0.9747 - val_loss: 0.3073 - val_accuracy: 0.8837\n",
      "Epoch 39/40\n",
      "30/30 [==============================] - 1s 20ms/step - loss: 0.0942 - accuracy: 0.9750 - val_loss: 0.3103 - val_accuracy: 0.8837\n",
      "Epoch 40/40\n",
      "30/30 [==============================] - 1s 20ms/step - loss: 0.0899 - accuracy: 0.9775 - val_loss: 0.3137 - val_accuracy: 0.8835\n"
     ]
    }
   ],
   "source": [
    "history = model.fit(partial_x_train,\n",
    "                    partial_y_train,\n",
    "                    epochs=40,\n",
    "                    batch_size=512,\n",
    "                    validation_data=(x_val, y_val),\n",
    "                    verbose=1)"
   ]
  },
  {
   "cell_type": "code",
   "execution_count": 16,
   "metadata": {},
   "outputs": [
    {
     "name": "stdout",
     "output_type": "stream",
     "text": [
      "782/782 - 1s - loss: 0.3341 - accuracy: 0.8719 - 1s/epoch - 2ms/step\n",
      "[0.3341306149959564, 0.8719199895858765]\n"
     ]
    }
   ],
   "source": [
    "results = model.evaluate(test_data, test_labels, verbose=2)\n",
    "\n",
    "print(results)"
   ]
  },
  {
   "cell_type": "code",
   "execution_count": 19,
   "metadata": {},
   "outputs": [
    {
     "data": {
      "text/plain": [
       "dict_keys(['loss', 'accuracy', 'val_loss', 'val_accuracy'])"
      ]
     },
     "execution_count": 19,
     "metadata": {},
     "output_type": "execute_result"
    }
   ],
   "source": [
    "history_dict = history.history\n",
    "history_dict.keys()"
   ]
  },
  {
   "cell_type": "code",
   "execution_count": 22,
   "metadata": {},
   "outputs": [
    {
     "data": {
      "image/png": "[encoded data removed]",
      "text/plain": [
       "<Figure size 640x480 with 1 Axes>"
      ]
     },
     "metadata": {},
     "output_type": "display_data"
    }
   ],
   "source": [
    "acc = history_dict['accuracy']\n",
    "val_acc = history_dict['val_accuracy']\n",
    "loss = history_dict['loss']\n",
    "val_loss = history_dict['val_loss']\n",
    "\n",
    "epochs = range(1, len(acc) + 1)\n",
    "\n",
    "plt.plot(epochs, loss, 'bo', label='Training loss')\n",
    "plt.plot(epochs, val_loss, 'b', label='Validation loss')\n",
    "plt.title('Training and validation loss')\n",
    "plt.xlabel('Epochs')\n",
    "plt.ylabel('Loss')\n",
    "plt.legend()\n",
    "\n",
    "plt.show()\n"
   ]
  },
  {
   "cell_type": "code",
   "execution_count": 23,
   "metadata": {},
   "outputs": [
    {
     "data": {
      "image/png": "[encoded data removed]",
      "text/plain": [
       "<Figure size 640x480 with 1 Axes>"
      ]
     },
     "metadata": {},
     "output_type": "display_data"
    }
   ],
   "source": [
    "plt.clf()\n",
    "\n",
    "plt.plot(epochs, acc, 'bo', label='Training acc')\n",
    "plt.plot(epochs, val_acc, 'b', label='Validation acc')\n",
    "plt.title('Training and validation accuracy')\n",
    "plt.xlabel('Epochs')\n",
    "plt.ylabel('Accuracy')\n",
    "plt.legend()\n",
    "\n",
    "plt.show()"
   ]
  },
  {
   "cell_type": "code",
   "execution_count": null,
   "metadata": {},
   "outputs": [],
   "source": []
  }
 ],
 "metadata": {
  "kernelspec": {
   "display_name": "God",
   "language": "python",
   "name": "python3"
  },
  "language_info": {
   "codemirror_mode": {
    "name": "ipython",
    "version": 3
   },
   "file_extension": ".py",
   "mimetype": "text/x-python",
   "name": "python",
   "nbconvert_exporter": "python",
   "pygments_lexer": "ipython3",
   "version": "3.7.16"
  },
  "orig_nbformat": 4
 },
 "nbformat": 4,
 "nbformat_minor": 2
}
