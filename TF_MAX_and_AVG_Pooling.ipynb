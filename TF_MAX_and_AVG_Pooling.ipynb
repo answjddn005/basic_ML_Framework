{
 "cells": [
  {
   "cell_type": "code",
   "execution_count": 1,
   "metadata": {},
   "outputs": [
    {
     "name": "stdout",
     "output_type": "stream",
     "text": [
      "x :(1, 10, 1)\n",
      "[ 0.15644617  0.2033005   0.43847024  0.81104547  1.9017991  -1.0501548\n",
      "  0.2210595  -1.6561192  -1.0344648   0.28828952]\n",
      "pooled_max(Tensorflow): (1, 9, 1)\n",
      "[ 0.2033005   0.43847024  0.81104547  1.9017991   1.9017991   0.2210595\n",
      "  0.2210595  -1.0344648   0.28828952]\n",
      "pooled_max(Manual): (9,)\n",
      "[ 0.20330051  0.43847024  0.81104547  1.90179908  1.90179908  0.2210595\n",
      "  0.2210595  -1.03446484  0.28828952]\n"
     ]
    }
   ],
   "source": [
    "import numpy as np\n",
    "import tensorflow as tf\n",
    "from tensorflow.keras.layers import MaxPooling1D\n",
    "\n",
    "L, f, s = 10, 2, 1\n",
    "\n",
    "x = tf.random.normal(shape=(1, L, 1))\n",
    "pool_max = MaxPooling1D(pool_size=f, strides=s)\n",
    "pooled_max = pool_max(x)\n",
    "\n",
    "print(\"x :{}\\n{}\".format(x.shape, x.numpy().flatten()))\n",
    "print(\"pooled_max(Tensorflow): {}\\n{}\".format(pooled_max.shape, \n",
    "                                              pooled_max.numpy().flatten()))\n",
    "\n",
    "x = x.numpy().flatten()\n",
    "pooled_max_man = np.zeros((L - f + 1, ))\n",
    "for i in range(L-f+1):\n",
    "  window = x[i:i+f]\n",
    "  pooled_max_man[i] = np.max(window)\n",
    "\n",
    "print(\"pooled_max(Manual): {}\\n{}\".format(pooled_max_man.shape, \n",
    "                                              pooled_max_man))"
   ]
  },
  {
   "cell_type": "code",
   "execution_count": 2,
   "metadata": {},
   "outputs": [
    {
     "name": "stdout",
     "output_type": "stream",
     "text": [
      "x :(1, 10, 1)\n",
      "[ 0.24277362 -0.65716034  0.9227822   1.0110965  -0.42311326 -0.62663925\n",
      "  0.1871835  -0.53219765 -0.12248148 -0.37612364]\n",
      "pooled_avg(Tensorflow): (1, 9, 1)\n",
      "[-0.20719336  0.13281092  0.96693933  0.29399163 -0.52487624 -0.21972787\n",
      " -0.17250708 -0.32733956 -0.24930257]\n",
      "pooled_max(Manual): (9,)\n",
      "[-0.20719336  0.13281092  0.96693933  0.29399163 -0.52487624 -0.21972787\n",
      " -0.17250708 -0.32733956 -0.24930257]\n"
     ]
    }
   ],
   "source": [
    "import numpy as np\n",
    "import tensorflow as tf\n",
    "from tensorflow.keras.layers import AveragePooling1D\n",
    "\n",
    "L, f, s = 10, 2, 1\n",
    "\n",
    "x = tf.random.normal(shape=(1, L, 1))\n",
    "pool_avg = AveragePooling1D(pool_size=f, strides=s)\n",
    "pooled_avg = pool_avg(x)\n",
    "\n",
    "print(\"x :{}\\n{}\".format(x.shape, x.numpy().flatten()))\n",
    "print(\"pooled_avg(Tensorflow): {}\\n{}\".format(pooled_avg.shape, \n",
    "                                              pooled_avg.numpy().flatten()))\n",
    "\n",
    "x = x.numpy().flatten()\n",
    "pooled_avg_man = np.zeros((L - f + 1, ))\n",
    "for i in range(L-f+1):\n",
    "  window = x[i:i+f]\n",
    "  pooled_avg_man[i] = np.mean(window)\n",
    "\n",
    "print(\"pooled_max(Manual): {}\\n{}\".format(pooled_avg_man.shape, \n",
    "                                              pooled_avg_man))"
   ]
  },
  {
   "cell_type": "code",
   "execution_count": 3,
   "metadata": {},
   "outputs": [
    {
     "name": "stdout",
     "output_type": "stream",
     "text": [
      "x :(1, 5, 5, 1)\n",
      "[[-0.4340362   0.28547525  0.7681131   0.32134083  0.8452097 ]\n",
      " [-2.2013807  -1.6502237  -0.42466694 -1.5200467   0.01418578]\n",
      " [ 0.1884323   0.04774365  0.41820225 -2.7725444  -0.2641222 ]\n",
      " [ 1.8908267  -1.3054084   0.6662803   0.57421976  0.38393277]\n",
      " [ 0.2533798   0.17741673  0.3675127   1.6019856  -0.2657823 ]]\n",
      "pooled_max(Tensorflow): (1, 4, 4, 1)\n",
      "[[0.28547525 0.7681131  0.7681131  0.8452097 ]\n",
      " [0.1884323  0.41820225 0.41820225 0.01418578]\n",
      " [1.8908267  0.6662803  0.6662803  0.57421976]\n",
      " [1.8908267  0.6662803  1.6019856  1.6019856 ]]\n",
      "pooled_max(Manual): (4, 4)\n",
      "[[0.28547525 0.76811308 0.76811308 0.84520972]\n",
      " [0.18843231 0.41820225 0.41820225 0.01418578]\n",
      " [1.8908267  0.66628033 0.66628033 0.57421976]\n",
      " [1.8908267  0.66628033 1.60198557 1.60198557]]\n"
     ]
    }
   ],
   "source": [
    "from tensorflow.keras.layers import MaxPooling2D\n",
    "\n",
    "N, n_H, n_W, n_C = 1, 5, 5, 1\n",
    "f, s = 2, 1\n",
    "\n",
    "x = tf.random.normal(shape=(N, n_H, n_W, n_C))\n",
    "pool_max = MaxPooling2D(pool_size=f, strides=s)\n",
    "pooled_max = pool_max(x)\n",
    "\n",
    "print(\"x :{}\\n{}\".format(x.shape, x.numpy().squeeze()))\n",
    "print(\"pooled_max(Tensorflow): {}\\n{}\".format(pooled_max.shape, \n",
    "                                              pooled_max.numpy().squeeze()))\n",
    "\n",
    "x = x.numpy().squeeze()\n",
    "pooled_max_man = np.zeros(shape=(n_H - f + 1, n_W - f + 1))\n",
    "for i in range(n_H - f + 1):\n",
    "  for j in range(n_W - f + 1):\n",
    "    window = x[i:i+f, j:j+f]\n",
    "    pooled_max_man[i, j] = np.max(window) \n",
    "\n",
    "print(\"pooled_max(Manual): {}\\n{}\".format(pooled_max_man.shape, \n",
    "                                              pooled_max_man))"
   ]
  },
  {
   "cell_type": "code",
   "execution_count": 4,
   "metadata": {},
   "outputs": [
    {
     "name": "stdout",
     "output_type": "stream",
     "text": [
      "x :(1, 5, 5, 1)\n",
      "[[-0.09088124 -0.93709964 -0.4911867  -0.77233803 -1.4605644 ]\n",
      " [ 1.0161346   0.31953505  1.2059529   0.6629455  -1.7726578 ]\n",
      " [ 0.5466794  -0.5783455   0.3443904   0.33411863 -0.10285926]\n",
      " [ 1.3674948  -0.5924833   2.549064   -0.6296322   1.0127579 ]\n",
      " [-0.7385894  -0.31821856  1.9485828   1.5998152   0.2757234 ]]\n",
      "pooled_avg(Tensorflow): (1, 4, 4, 1)\n",
      "[[ 0.07692219  0.0243004   0.1513434  -0.83565366]\n",
      " [ 0.32600087  0.3228832   0.63685185 -0.21961322]\n",
      " [ 0.18583637  0.43065637  0.6494852   0.15359628]\n",
      " [-0.07044911  0.8967362   1.3669574   0.5646661 ]]\n",
      "pooled_avg(Manual): (4, 4)\n",
      "[[ 0.07692219  0.0243004   0.15134341 -0.83565366]\n",
      " [ 0.32600087  0.32288319  0.63685185 -0.21961322]\n",
      " [ 0.18583637  0.43065637  0.64948517  0.15359628]\n",
      " [-0.07044911  0.8967362   1.36695743  0.56466609]]\n"
     ]
    }
   ],
   "source": [
    "from tensorflow.keras.layers import AveragePooling2D\n",
    "\n",
    "N, n_H, n_W, n_C = 1, 5, 5, 1\n",
    "f, s = 2, 1\n",
    "\n",
    "x = tf.random.normal(shape=(N, n_H, n_W, n_C))\n",
    "pool_avg = AveragePooling2D(pool_size=f, strides=s)\n",
    "pooled_avg = pool_avg(x)\n",
    "\n",
    "print(\"x :{}\\n{}\".format(x.shape, x.numpy().squeeze()))\n",
    "print(\"pooled_avg(Tensorflow): {}\\n{}\".format(pooled_avg.shape, \n",
    "                                              pooled_avg.numpy().squeeze()))\n",
    "\n",
    "x = x.numpy().squeeze()\n",
    "pooled_avg_man = np.zeros(shape=(n_H - f + 1, n_W - f + 1))\n",
    "for i in range(n_H - f + 1):\n",
    "  for j in range(n_W - f + 1):\n",
    "    window = x[i:i+f, j:j+f]\n",
    "    pooled_avg_man[i, j] = np.mean(window) \n",
    "\n",
    "print(\"pooled_avg(Manual): {}\\n{}\".format(pooled_avg_man.shape, \n",
    "                                              pooled_avg_man))"
   ]
  },
  {
   "cell_type": "code",
   "execution_count": null,
   "metadata": {},
   "outputs": [],
   "source": []
  }
 ],
 "metadata": {
  "kernelspec": {
   "display_name": "God",
   "language": "python",
   "name": "python3"
  },
  "language_info": {
   "codemirror_mode": {
    "name": "ipython",
    "version": 3
   },
   "file_extension": ".py",
   "mimetype": "text/x-python",
   "name": "python",
   "nbconvert_exporter": "python",
   "pygments_lexer": "ipython3",
   "version": "3.7.16"
  },
  "orig_nbformat": 4
 },
 "nbformat": 4,
 "nbformat_minor": 2
}
