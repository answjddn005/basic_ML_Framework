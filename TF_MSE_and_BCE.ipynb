{
 "cells": [
  {
   "cell_type": "code",
   "execution_count": 1,
   "metadata": {},
   "outputs": [
    {
     "name": "stdout",
     "output_type": "stream",
     "text": [
      "MSE(Tensorflow):  2.1447363\n",
      "MSE(Manual):  2.1447363\n"
     ]
    }
   ],
   "source": [
    "import tensorflow as tf\n",
    "from tensorflow.keras.losses import MeanSquaredError\n",
    "\n",
    "loss_object = MeanSquaredError()\n",
    "\n",
    "batch_size = 32\n",
    "predictions = tf.random.normal(shape=(batch_size, 1))\n",
    "labels = tf.random.normal(shape=(batch_size, 1))\n",
    "\n",
    "mse = loss_object(labels, predictions)\n",
    "mse_manual = tf.reduce_mean(tf.math.pow(labels - predictions, 2))\n",
    "\n",
    "print(\"MSE(Tensorflow): \", mse.numpy())\n",
    "print(\"MSE(Manual): \", mse_manual.numpy())"
   ]
  },
  {
   "cell_type": "code",
   "execution_count": 2,
   "metadata": {},
   "outputs": [
    {
     "name": "stdout",
     "output_type": "stream",
     "text": [
      "2.2247202\n",
      "1.7317033\n",
      "2.5776238\n",
      "2.238729\n"
     ]
    }
   ],
   "source": [
    "from tensorflow.keras.layers import Dense\n",
    "\n",
    "N, n_feature = 100, 5\n",
    "\n",
    "X = tf.random.normal(shape=(N, n_feature))\n",
    "Y = tf.random.normal(shape=(N, 1))\n",
    "\n",
    "dataset = tf.data.Dataset.from_tensor_slices((X, Y))\n",
    "dataset = dataset.batch(batch_size)\n",
    "\n",
    "model = Dense(units=1, activation='linear')\n",
    "\n",
    "for x, y in dataset:\n",
    "  predictions = model(x)\n",
    "  loss = loss_object(y, predictions)\n",
    "  print(loss.numpy())"
   ]
  },
  {
   "cell_type": "code",
   "execution_count": 3,
   "metadata": {},
   "outputs": [
    {
     "name": "stdout",
     "output_type": "stream",
     "text": [
      "BCE(tensorflow):  0.530712\n",
      "BCE(Manual):  0.5307122\n"
     ]
    }
   ],
   "source": [
    "from tensorflow.keras.losses import BinaryCrossentropy\n",
    "\n",
    "batch_size = 4\n",
    "n_class = 2\n",
    "\n",
    "predictions = tf.random.uniform(shape=(batch_size, 1),\n",
    "                                minval=0, maxval=1,\n",
    "                                dtype=tf.float32)\n",
    "\n",
    "labels = tf.random.uniform(shape=(batch_size, 1),\n",
    "                           minval=0, maxval=n_class,\n",
    "                           dtype=tf.int32)\n",
    "\n",
    "loss_object = BinaryCrossentropy()\n",
    "loss = loss_object(labels, predictions)\n",
    "\n",
    "\n",
    "labels = tf.cast(labels, tf.float32)\n",
    "bce_man = -(labels*tf.math.log(predictions) + (1 - labels)*tf.math.log(1 - predictions))\n",
    "bce_man = tf.reduce_mean(bce_man)\n",
    "\n",
    "print(\"BCE(tensorflow): \", loss.numpy())\n",
    "print(\"BCE(Manual): \", bce_man.numpy())"
   ]
  },
  {
   "cell_type": "code",
   "execution_count": 4,
   "metadata": {},
   "outputs": [
    {
     "name": "stdout",
     "output_type": "stream",
     "text": [
      "5.4408717\n",
      "4.8682094\n",
      "7.762354\n",
      "0.33248246\n",
      "4.2576575\n",
      "0.0\n",
      "4.0886946\n",
      "0.26515868\n",
      "0.36234796\n",
      "4.979263\n",
      "3.9847138\n",
      "11.568711\n",
      "4.2713895\n",
      "4.7619977\n",
      "0.47256017\n",
      "4.9766827\n",
      "8.54367\n",
      "5.859865\n",
      "7.8499966\n",
      "7.9733152\n",
      "0.9793983\n",
      "0.32934356\n",
      "4.946777\n",
      "7.8325286\n",
      "8.304709\n"
     ]
    }
   ],
   "source": [
    "N, n_feature = 100, 5\n",
    "t_weights = tf.constant([1, 2, 3, 4, 5], dtype=tf.float32)\n",
    "t_bias = tf.constant([10], dtype=tf.float32)\n",
    "\n",
    "X = tf.random.normal(mean=0, stddev=1, shape=(N, n_feature))\n",
    "Y = tf.reduce_sum(t_weights * X, axis=1) + t_bias\n",
    "Y = tf.cast(Y > 5, tf.int32)\n",
    "\n",
    "dataset = tf.data.Dataset.from_tensor_slices((X, Y))\n",
    "dataset = dataset.batch(batch_size)\n",
    "\n",
    "dense = Dense(units=1, activation='sigmoid')\n",
    "loss_object = BinaryCrossentropy()\n",
    "\n",
    "for x, y in dataset:\n",
    "  predictions = model(x) \n",
    "  loss = loss_object(y, predictions)\n",
    "  print(loss.numpy())"
   ]
  },
  {
   "cell_type": "code",
   "execution_count": null,
   "metadata": {},
   "outputs": [],
   "source": []
  }
 ],
 "metadata": {
  "kernelspec": {
   "display_name": "God",
   "language": "python",
   "name": "python3"
  },
  "language_info": {
   "codemirror_mode": {
    "name": "ipython",
    "version": 3
   },
   "file_extension": ".py",
   "mimetype": "text/x-python",
   "name": "python",
   "nbconvert_exporter": "python",
   "pygments_lexer": "ipython3",
   "version": "3.7.16"
  },
  "orig_nbformat": 4
 },
 "nbformat": 4,
 "nbformat_minor": 2
}
