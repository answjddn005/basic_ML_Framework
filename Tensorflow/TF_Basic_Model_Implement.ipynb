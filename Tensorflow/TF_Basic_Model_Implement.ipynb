{
 "cells": [
  {
   "cell_type": "code",
   "execution_count": 15,
   "metadata": {},
   "outputs": [
    {
     "name": "stdout",
     "output_type": "stream",
     "text": [
      "Y(tensorflow): \n",
      " [[0.5732239  0.5207449  0.76788336]\n",
      " [0.7383052  0.774759   0.16945796]\n",
      " [0.29709536 0.24858807 0.43129715]\n",
      " [0.18789265 0.25561783 0.5795892 ]]\n",
      "Y(with matmul):\n",
      " [[0.5732239  0.5207449  0.76788336]\n",
      " [0.7383053  0.774759   0.16945796]\n",
      " [0.2970954  0.24858806 0.43129715]\n",
      " [0.18789263 0.25561783 0.5795891 ]]\n",
      "Y(with dot products): \n",
      " [[0.57322387 0.52074493 0.76788329]\n",
      " [0.73830523 0.774759   0.16945797]\n",
      " [0.29709538 0.24858807 0.43129718]\n",
      " [0.18789264 0.25561782 0.57958916]]\n"
     ]
    }
   ],
   "source": [
    "import tensorflow as tf\n",
    "\n",
    "import numpy as np\n",
    "\n",
    "from tensorflow.math import exp\n",
    "from tensorflow.linalg import matmul\n",
    "from tensorflow.keras.layers import Dense\n",
    "\n",
    "N, n_feature = 4, 10 \n",
    "\n",
    "X = tf.random.normal(shape=(N, n_feature))\n",
    "\n",
    "n_neuron = 3\n",
    "dense = Dense(units=n_neuron, activation='sigmoid')\n",
    "Y_tf = dense(X)\n",
    "\n",
    "W, B = dense.get_weights()\n",
    "\n",
    "print(\"Y(tensorflow): \\n\", Y_tf.numpy())\n",
    "\n",
    "z = matmul(X, W) + B\n",
    "Y_man_matmul = 1/(1 + exp(-z))\n",
    "\n",
    "print(\"Y(with matmul):\\n\", Y_man_matmul.numpy())\n",
    "\n",
    "Y_man_vec = np.zeros(shape=(N, n_neuron))\n",
    "for x_idx in range(N):\n",
    "  x = X[x_idx]\n",
    "\n",
    "  for nu_idx in range(n_neuron):\n",
    "    w, b = W[:, nu_idx], B[nu_idx]\n",
    "\n",
    "    z = tf.reduce_sum(x * w) + b\n",
    "    a = 1/(1 +np.exp(-z))\n",
    "    Y_man_vec[x_idx, nu_idx] = a\n",
    "\n",
    "print(\"Y(with dot products): \\n\", Y_man_vec)"
   ]
  },
  {
   "cell_type": "code",
   "execution_count": 16,
   "metadata": {},
   "outputs": [
    {
     "name": "stdout",
     "output_type": "stream",
     "text": [
      "X: (4, 10)\n",
      "\n",
      "W1:  (10, 3)\n",
      "B1:  (3,)\n",
      "A1: (4, 3)\n",
      "\n",
      "W2  (3, 5)\n",
      "B2,  (5,)\n",
      "Y: (4, 5)\n",
      "\n"
     ]
    }
   ],
   "source": [
    "n_neurons = [3, 5]\n",
    "\n",
    "dense1 = Dense(units=n_neurons[0], activation='sigmoid')\n",
    "dense2 = Dense(units=n_neurons[1], activation='sigmoid')\n",
    "\n",
    "A1 = dense1(X)\n",
    "Y = dense2(A1)\n",
    "\n",
    "W1, B1 = dense1.get_weights()\n",
    "W2, B2 = dense2.get_weights()\n",
    "\n",
    "\n",
    "print(\"X: {}\\n\".format(X.shape))\n",
    "\n",
    "print(\"W1: \", W1.shape)\n",
    "print(\"B1: \", B1.shape)\n",
    "\n",
    "print(\"A1: {}\\n\".format(A1.shape))\n",
    "print(\"W2 \", W2.shape)\n",
    "print(\"B2, \", B2.shape)\n",
    "\n",
    "print(\"Y: {}\\n\".format(Y.shape))"
   ]
  },
  {
   "cell_type": "code",
   "execution_count": 17,
   "metadata": {},
   "outputs": [
    {
     "name": "stdout",
     "output_type": "stream",
     "text": [
      "Input:  (4, 10)\n",
      "After dense layer  1\n",
      "(4, 10) \n",
      "\n",
      "After dense layer  2\n",
      "(4, 20) \n",
      "\n",
      "After dense layer  3\n",
      "(4, 30) \n",
      "\n",
      "After dense layer  4\n",
      "(4, 40) \n",
      "\n",
      "After dense layer  5\n",
      "(4, 50) \n",
      "\n",
      "After dense layer  6\n",
      "(4, 60) \n",
      "\n",
      "After dense layer  7\n",
      "(4, 70) \n",
      "\n",
      "After dense layer  8\n",
      "(4, 80) \n",
      "\n",
      "After dense layer  9\n",
      "(4, 90) \n",
      "\n",
      "After dense layer  10\n",
      "(4, 100) \n",
      "\n"
     ]
    }
   ],
   "source": [
    "n_neurons = [10, 20, 30, 40, 50, 60, 70, 80, 90, 100]\n",
    "\n",
    "dense_layers = list()\n",
    "for n_neuron1 in n_neurons:\n",
    "  dense = Dense(units=n_neuron1, activation='relu')\n",
    "  dense_layers.append(dense)\n",
    "\n",
    "print(\"Input: \", X.shape)\n",
    "for dense_idx, dense in enumerate(dense_layers):\n",
    "  X = dense(X)\n",
    "  print(\"After dense layer \", dense_idx+1)\n",
    "  print(X.shape, '\\n')\n",
    "\n",
    "Y = X"
   ]
  },
  {
   "cell_type": "code",
   "execution_count": 18,
   "metadata": {},
   "outputs": [
    {
     "name": "stdout",
     "output_type": "stream",
     "text": [
      "X(tensorflow):  [[0.56592125 0.4346844  0.44454247 0.3692835  0.57592016]\n",
      " [0.5659721  0.43453515 0.44427583 0.36930245 0.57620764]\n",
      " [0.5659476  0.4346351  0.4445148  0.36931664 0.57594556]\n",
      " [0.5659628  0.43455255 0.4442918  0.36929384 0.5761916 ]]\n",
      "Y(Maunal): \n",
      " [[0.56592125 0.4346844  0.44454244 0.3692835  0.57592016]\n",
      " [0.5659721  0.43453515 0.44427583 0.36930245 0.57620764]\n",
      " [0.5659476  0.43463507 0.4445148  0.36931664 0.57594556]\n",
      " [0.5659628  0.43455258 0.4442918  0.3692938  0.57619154]]\n"
     ]
    }
   ],
   "source": [
    "X_cp = tf.identity(X)\n",
    "\n",
    "n_neurons = [3, 4, 5]\n",
    "\n",
    "dense_layers = list()\n",
    "\n",
    "for n_neuron1 in n_neurons:\n",
    "  dense = Dense(units=n_neuron1, activation='sigmoid')\n",
    "  dense_layers.append(dense)\n",
    "\n",
    "W, B = list(), list()\n",
    "for dense_idx, dense in enumerate(dense_layers):\n",
    "  X = dense(X)\n",
    "  w, b = dense.get_weights()\n",
    "\n",
    "  W.append(w)\n",
    "  B.append(b)\n",
    "\n",
    "print(\"X(tensorflow): \", X.numpy())\n",
    "\n",
    "for layer_idx in range(len(n_neurons)):\n",
    "  w, b = W[layer_idx], B[layer_idx]\n",
    "\n",
    "  X_cp = matmul(X_cp, w) + b\n",
    "  X_cp = 1/(1 + exp(-X_cp))\n",
    "\n",
    "print('Y(Maunal): \\n', X_cp.numpy())"
   ]
  },
  {
   "cell_type": "code",
   "execution_count": 19,
   "metadata": {},
   "outputs": [],
   "source": [
    "from tensorflow.keras.layers import Dense\n",
    "from tensorflow.keras.models import Sequential\n",
    "\n",
    "model = Sequential()\n",
    "model.add(Dense(units=10, activation='sigmoid'))\n",
    "model.add(Dense(units=20, activation='sigmoid'))"
   ]
  },
  {
   "cell_type": "code",
   "execution_count": 20,
   "metadata": {},
   "outputs": [
    {
     "name": "stdout",
     "output_type": "stream",
     "text": [
      "<keras.layers.core.dense.Dense object at 0x0000025610D692B0>\n",
      "<keras.layers.core.dense.Dense object at 0x000002560ECA8CA0>\n"
     ]
    }
   ],
   "source": [
    "from tensorflow.keras.models import Model\n",
    "class TestModel(Model):\n",
    "  def __init__(self):\n",
    "    super(TestModel, self).__init__()\n",
    "\n",
    "    self.dense1 = Dense(units=10, activation='sigmoid')\n",
    "    self.dense2 = Dense(units=20, activation='sigmoid')\n",
    "\n",
    "model = TestModel()\n",
    "print(model.dense1)\n",
    "print(model.dense2)"
   ]
  },
  {
   "cell_type": "code",
   "execution_count": 22,
   "metadata": {},
   "outputs": [],
   "source": [
    "import tensorflow as tf\n",
    "from tensorflow.keras.layers import Dense\n",
    "from tensorflow.keras.models import Sequential\n",
    "from tensorflow.keras.models import Model\n",
    "\n",
    "\n",
    "X = tf.random.normal(shape=(4, 10))\n",
    "\n",
    "model = Sequential()\n",
    "model.add(Dense(units=10, activation='sigmoid'))\n",
    "model.add(Dense(units=20, activation='sigmoid'))\n",
    "\n",
    "Y = model(X)\n",
    "\n",
    "class TestModel(Model):\n",
    "  def __init__(self):\n",
    "    super(TestModel, self).__init__()\n",
    "\n",
    "    self.dense1 = Dense(units=10, activation='sigmoid')\n",
    "    self.dense2 = Dense(units=20, activation='sigmoid')\n",
    "\n",
    "  def call(self, x):\n",
    "    x = self.dense1(x)\n",
    "    x = self.dense2(x)\n",
    "    return x\n",
    "\n",
    "model1 = TestModel()\n",
    "Y = model1(X)"
   ]
  },
  {
   "cell_type": "code",
   "execution_count": 23,
   "metadata": {},
   "outputs": [
    {
     "name": "stdout",
     "output_type": "stream",
     "text": [
      "Y(tensorflow): \n",
      " [[0.41528746 0.45428637 0.12402209]\n",
      " [0.33733773 0.8440179  0.60001963]\n",
      " [0.1246224  0.08795512 0.95145446]\n",
      " [0.69169825 0.794712   0.05969982]]\n",
      "Y(with matmul):\n",
      " [[0.4152875  0.45428634 0.12402209]\n",
      " [0.33733776 0.8440179  0.60001963]\n",
      " [0.12462239 0.08795513 0.9514545 ]\n",
      " [0.69169825 0.794712   0.05969981]]\n",
      "Y(with dot products): \n",
      " [[0.41528745 0.45428634 0.1240221 ]\n",
      " [0.33733774 0.84401791 0.60001961]\n",
      " [0.12462239 0.08795513 0.95145449]\n",
      " [0.6916983  0.79471197 0.0596998 ]]\n"
     ]
    }
   ],
   "source": [
    "import tensorflow as tf\n",
    "\n",
    "import numpy as np\n",
    "\n",
    "from tensorflow.math import exp\n",
    "from tensorflow.linalg import matmul\n",
    "from tensorflow.keras.layers import Dense\n",
    "\n",
    "N, n_feature = 4, 10 \n",
    "\n",
    "X = tf.random.normal(shape=(N, n_feature))\n",
    "\n",
    "n_neuron = 3\n",
    "dense = Dense(units=n_neuron, activation='sigmoid')\n",
    "Y_tf = dense(X)\n",
    "\n",
    "W, B = dense.get_weights()\n",
    "\n",
    "print(\"Y(tensorflow): \\n\", Y_tf.numpy())\n",
    "\n",
    "z = matmul(X, W) + B\n",
    "Y_man_matmul = 1/(1 + exp(-z))\n",
    "\n",
    "print(\"Y(with matmul):\\n\", Y_man_matmul.numpy())\n",
    "\n",
    "Y_man_vec = np.zeros(shape=(N, n_neuron))\n",
    "for x_idx in range(N):\n",
    "    x = X[x_idx]\n",
    "\n",
    "    for nu_idx in range(n_neuron):\n",
    "      w, b = W[:, nu_idx], B[nu_idx]\n",
    "\n",
    "      z = tf.reduce_sum(x * w) + b\n",
    "      a = 1/(1 +np.exp(-z))\n",
    "      Y_man_vec[x_idx, nu_idx] = a\n",
    "\n",
    "print(\"Y(with dot products): \\n\", Y_man_vec)"
   ]
  },
  {
   "cell_type": "code",
   "execution_count": 24,
   "metadata": {},
   "outputs": [
    {
     "name": "stdout",
     "output_type": "stream",
     "text": [
      "<class 'list'>\n",
      "4\n",
      "(10, 10)\n",
      "(10,)\n",
      "(10, 20)\n",
      "(20,)\n"
     ]
    }
   ],
   "source": [
    "model = Sequential()\n",
    "model.add(Dense(units=10, activation='sigmoid'))\n",
    "model.add(Dense(units=20, activation='sigmoid'))\n",
    "\n",
    "Y = model(X)\n",
    "\n",
    "print(type(model.trainable_variables))\n",
    "print(len(model.trainable_variables))\n",
    "\n",
    "for train_var in model.trainable_variables:\n",
    "  print(train_var.shape)"
   ]
  },
  {
   "cell_type": "code",
   "execution_count": null,
   "metadata": {},
   "outputs": [],
   "source": []
  }
 ],
 "metadata": {
  "kernelspec": {
   "display_name": "God",
   "language": "python",
   "name": "python3"
  },
  "language_info": {
   "codemirror_mode": {
    "name": "ipython",
    "version": 3
   },
   "file_extension": ".py",
   "mimetype": "text/x-python",
   "name": "python",
   "nbconvert_exporter": "python",
   "pygments_lexer": "ipython3",
   "version": "3.7.16"
  },
  "orig_nbformat": 4
 },
 "nbformat": 4,
 "nbformat_minor": 2
}
