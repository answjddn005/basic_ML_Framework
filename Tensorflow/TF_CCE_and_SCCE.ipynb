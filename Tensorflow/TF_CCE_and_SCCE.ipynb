{
 "cells": [
  {
   "cell_type": "code",
   "execution_count": 12,
   "metadata": {},
   "outputs": [
    {
     "name": "stdout",
     "output_type": "stream",
     "text": [
      "1.9898534\n",
      "1.9898534\n"
     ]
    }
   ],
   "source": [
    "import tensorflow as tf\n",
    "from tensorflow.keras.losses import SparseCategoricalCrossentropy\n",
    "\n",
    "batch_size, n_class = 16, 5\n",
    "\n",
    "predictions = tf.random.uniform(shape=(batch_size, n_class),\n",
    "                                minval = 0, maxval = 1,\n",
    "                                dtype=tf.float32)\n",
    "\n",
    "pred_sum = tf.reshape(tf.reduce_sum(predictions, axis=1), (-1, 1))\n",
    "predictions = predictions/pred_sum\n",
    "\n",
    "labels = tf.random.uniform(shape=(batch_size, ),\n",
    "                           minval = 0, maxval = n_class,\n",
    "                           dtype=tf.int32)\n",
    "\n",
    "loss_object = SparseCategoricalCrossentropy()\n",
    "loss = loss_object(labels, predictions)\n",
    "\n",
    "print(loss.numpy())\n",
    "\n",
    "ce = 0\n",
    "for label, prediction in zip(labels, predictions):\n",
    "  ce += -tf.math.log(prediction[label])\n",
    "ce /= batch_size\n",
    "print(ce.numpy())"
   ]
  },
  {
   "cell_type": "code",
   "execution_count": 13,
   "metadata": {},
   "outputs": [
    {
     "name": "stdout",
     "output_type": "stream",
     "text": [
      "4.3817334\n",
      "4.7877913\n",
      "5.0903497\n",
      "4.954963\n",
      "4.31487\n",
      "5.146673\n",
      "1.4577155\n",
      "0.2771812\n",
      "0.3291614\n",
      "0.2967335\n",
      "0.31737584\n",
      "0.2798333\n",
      "0.17933089\n",
      "0.017174944\n",
      "0.017825775\n",
      "0.017198246\n",
      "0.01936359\n",
      "0.017452907\n",
      "3.4426792\n",
      "11.531567\n",
      "11.378958\n",
      "12.336951\n",
      "12.099053\n",
      "11.370011\n",
      "11.696667\n",
      "0.0008892367\n",
      "0.0005572482\n",
      "0.00073335145\n",
      "0.0005167106\n",
      "0.00046450444\n",
      "0.0004471019\n",
      "0.00052907807\n"
     ]
    }
   ],
   "source": [
    "from tensorflow.keras.layers import Dense\n",
    "\n",
    "N, n_feature = 100, 2\n",
    "\n",
    "n_class = 5\n",
    "\n",
    "X = tf.zeros(shape=(0, n_feature))\n",
    "Y = tf.zeros(shape=(0, 1), dtype=tf.int32)\n",
    "\n",
    "for class_idx in range(n_class):\n",
    "  center = tf.random.uniform(minval=-15, maxval=15, shape=(2, ))\n",
    "  \n",
    "  x1 = center[0] + tf.random.normal(shape=(N, 1))\n",
    "  x2 = center[1] + tf.random.normal(shape=(N, 1))\n",
    "\n",
    "  x = tf.concat((x1, x2), axis=1)\n",
    "  y = class_idx*tf.ones(shape=(N, 1), dtype=tf.int32)\n",
    "\n",
    "  X = tf.concat((X, x), axis=0)\n",
    "  Y = tf.concat((Y, y), axis=0)\n",
    "\n",
    "#print(\"X(shape/dtype/data): {} / {}\\n{}\\n\".format(X.shape, X.dtype, X.numpy()))\n",
    "#print(\"Y(shape/dtype/data): {} / {}\\n{}\\n\".format(Y.shape, Y.dtype, Y.numpy()))\n",
    "\n",
    "dataset = tf.data.Dataset.from_tensor_slices((X, Y))\n",
    "dataset = dataset.batch(batch_size)\n",
    "\n",
    "model = Dense(units=n_class, activation='softmax')\n",
    "\n",
    "for x, y in dataset:\n",
    "  predictions = model(x)\n",
    "  loss = loss_object(y, predictions)\n",
    "  print(loss.numpy())"
   ]
  },
  {
   "cell_type": "code",
   "execution_count": 14,
   "metadata": {},
   "outputs": [
    {
     "name": "stdout",
     "output_type": "stream",
     "text": [
      "CCE(Tensorflow):  1.5144305\n"
     ]
    }
   ],
   "source": [
    "import tensorflow as tf\n",
    "\n",
    "from tensorflow.keras.losses import CategoricalCrossentropy\n",
    "\n",
    "batch_size, n_class = 16, 5\n",
    "\n",
    "predictions = tf.random.uniform(shape=(batch_size, n_class),\n",
    "                                minval = 0, maxval = 1,\n",
    "                                dtype=tf.float32)\n",
    "\n",
    "labels = tf.random.uniform(shape=(batch_size, ),\n",
    "                           minval = 0, maxval = n_class,\n",
    "                           dtype=tf.int32)\n",
    "\n",
    "labels = tf.one_hot(labels, n_class)\n",
    "\n",
    "loss_object = CategoricalCrossentropy()\n",
    "loss = loss_object(labels, predictions)\n",
    "\n",
    "print(\"CCE(Tensorflow): \", loss.numpy())\n",
    "\n",
    "cce_man = tf.reduce_mean(tf.reduce_sum(-labels*tf.math.log(predictions), axis=1))"
   ]
  },
  {
   "cell_type": "code",
   "execution_count": 15,
   "metadata": {},
   "outputs": [],
   "source": [
    "import tensorflow as tf\n",
    "from tensorflow.keras.losses import CategoricalCrossentropy\n",
    "\n",
    "N, n_feature = 8, 2\n",
    "n_class = 5\n",
    "\n",
    "X = tf.zeros(shape=(0, n_feature))\n",
    "Y = tf.zeros(shape=(0, ), dtype=tf.int32)\n",
    "\n",
    "for class_idx in range(n_class):\n",
    "    center = tf.random.uniform(minval=-15, maxval=15, shape=(2, ))\n",
    "\n",
    "    x1 = center[0] + tf.random.normal(shape=(N, 1))\n",
    "    x2 = center[1] + tf.random.normal(shape=(N, 1))\n",
    "\n",
    "    x = tf.concat((x1, x2), axis=1)\n",
    "    y = class_idx*tf.ones(shape=(N, ), dtype=tf.int32)\n",
    "\n",
    "    x = tf.concat((X, x), axis=0)\n",
    "    y = tf.concat((Y, y), axis=0)\n",
    "\n",
    "Y = tf.one_hot(Y, depth=n_class, dtype=tf.int32)\n",
    "\n",
    "dataset = tf.data.Dataset.from_tensor_slices((X, Y))\n",
    "dataset = dataset.batch(batch_size)\n",
    "\n",
    "model = Dense(units=n_class, activation='softmax')\n",
    "loss_object = CategoricalCrossentropy()\n",
    "\n",
    "for x, y in dataset:\n",
    "    predictions = model(x)\n",
    "    print(predictions.shape, y.shape)"
   ]
  },
  {
   "cell_type": "code",
   "execution_count": null,
   "metadata": {},
   "outputs": [],
   "source": []
  }
 ],
 "metadata": {
  "kernelspec": {
   "display_name": "God",
   "language": "python",
   "name": "python3"
  },
  "language_info": {
   "codemirror_mode": {
    "name": "ipython",
    "version": 3
   },
   "file_extension": ".py",
   "mimetype": "text/x-python",
   "name": "python",
   "nbconvert_exporter": "python",
   "pygments_lexer": "ipython3",
   "version": "3.7.16"
  },
  "orig_nbformat": 4
 },
 "nbformat": 4,
 "nbformat_minor": 2
}
