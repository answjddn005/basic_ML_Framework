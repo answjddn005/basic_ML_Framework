{
 "cells": [
  {
   "cell_type": "code",
   "execution_count": 1,
   "metadata": {},
   "outputs": [],
   "source": [
    "import tensorflow as tf\n",
    "\n",
    "from tensorflow.keras.layers import Layer\n",
    "from tensorflow.keras.models import Model\n",
    "\n",
    "from tensorflow.keras.layers import Conv2D\n",
    "from tensorflow.keras.layers import AveragePooling2D  \n",
    "from tensorflow.keras.layers import Flatten\n",
    "from tensorflow.keras.layers import Dense"
   ]
  },
  {
   "cell_type": "code",
   "execution_count": 2,
   "metadata": {},
   "outputs": [],
   "source": [
    "class ConvLayer(Layer):\n",
    "  def __init__(self, filters, padding, pool=True):\n",
    "    super(ConvLayer, self).__init__()\n",
    "    self.pool = pool\n",
    "\n",
    "    self.conv = Conv2D(filters=6, kernel_size=5, padding='same',\n",
    "                        activation='tanh')\n",
    "    if pool == True:\n",
    "      self.conv_pool = AveragePooling2D(pool_size=2, strides=2)\n",
    "\n",
    "  def call(self, x):\n",
    "    x = self.conv(x)\n",
    "    if self.pool == True:\n",
    "      x = self.conv_pool(x)\n",
    "    return x"
   ]
  },
  {
   "cell_type": "code",
   "execution_count": 3,
   "metadata": {},
   "outputs": [
    {
     "name": "stdout",
     "output_type": "stream",
     "text": [
      "x: (32, 28, 28, 1)\n",
      "x: (32, 14, 14, 6)\n",
      "x: (32, 7, 7, 6)\n",
      "x: (32, 7, 7, 6)\n",
      "x: (32, 294)\n",
      "x: (32, 84)\n",
      "x: (32, 10)\n"
     ]
    }
   ],
   "source": [
    "class LeNet(Model):\n",
    "  def __init__(self):\n",
    "    super(LeNet, self).__init__()\n",
    "    self.conv1 = ConvLayer(filters=6, padding='same')\n",
    "\n",
    "    self.conv2 = ConvLayer(filters=16, padding='valid')\n",
    "\n",
    "    self.conv3 = ConvLayer(filters=120, padding='valid', pool=False)\n",
    "    self.flatten = Flatten()\n",
    "\n",
    "    self.dense1 = Dense(units=84, activation='tanh')\n",
    "    self.dense2 = Dense(units=10, activation='softmax')\n",
    "\n",
    "  def call(self, x):\n",
    "    print(\"x: {}\".format(x.shape))\n",
    "\n",
    "    x = self.conv1(x)\n",
    "    print(\"x: {}\".format(x.shape))\n",
    "\n",
    "    x = self.conv2(x)\n",
    "    print(\"x: {}\".format(x.shape))\n",
    "\n",
    "    x = self.conv3(x)\n",
    "    print(\"x: {}\".format(x.shape))\n",
    "    \n",
    "    x = self.flatten(x)\n",
    "    print(\"x: {}\".format(x.shape))\n",
    "\n",
    "    x = self.dense1(x)\n",
    "    print(\"x: {}\".format(x.shape))\n",
    "    x = self.dense2(x)\n",
    "    print(\"x: {}\".format(x.shape))\n",
    "    return x\n",
    "    \n",
    "model = LeNet()\n",
    "\n",
    "x = tf.random.normal(shape=(32, 28, 28, 1))\n",
    "predictions = model(x)"
   ]
  },
  {
   "cell_type": "code",
   "execution_count": 4,
   "metadata": {},
   "outputs": [],
   "source": [
    "import tensorflow as tf\n",
    "import numpy as np\n",
    "\n",
    "from tensorflow.keras.layers import Layer\n",
    "from tensorflow.keras.models import Model\n",
    "\n",
    "from tensorflow.keras.layers import Conv2D\n",
    "from tensorflow.keras.layers import AveragePooling2D  \n",
    "from tensorflow.keras.layers import Flatten\n",
    "from tensorflow.keras.layers import Dense\n",
    "\n",
    "from tensorflow.keras.datasets import mnist\n",
    "\n",
    "from tensorflow.keras.losses import SparseCategoricalCrossentropy"
   ]
  },
  {
   "cell_type": "code",
   "execution_count": 5,
   "metadata": {},
   "outputs": [],
   "source": [
    "class ConvLayer(Layer):\n",
    "  def __init__(self, filters, padding, pool=True):\n",
    "    super(ConvLayer, self).__init__()\n",
    "    self.pool = pool\n",
    "\n",
    "    self.conv = Conv2D(filters=6, kernel_size=5, padding='same',\n",
    "                        activation='tanh')\n",
    "    if pool == True:\n",
    "      self.conv_pool = AveragePooling2D(pool_size=2, strides=2)\n",
    "\n",
    "  def call(self, x):\n",
    "    x = self.conv(x)\n",
    "    if self.pool == True:\n",
    "      x = self.conv_pool(x)\n",
    "    return x"
   ]
  },
  {
   "cell_type": "code",
   "execution_count": 6,
   "metadata": {},
   "outputs": [],
   "source": [
    "class LeNet(Model):\n",
    "  def __init__(self):\n",
    "    super(LeNet, self).__init__()\n",
    "    self.conv1 = ConvLayer(filters=6, padding='same')\n",
    "\n",
    "    self.conv2 = ConvLayer(filters=16, padding='valid')\n",
    "\n",
    "    self.conv3 = ConvLayer(filters=120, padding='valid', pool=False)\n",
    "    self.flatten = Flatten()\n",
    "\n",
    "    self.dense1 = Dense(units=84, activation='tanh')\n",
    "    self.dense2 = Dense(units=10, activation='softmax')\n",
    "\n",
    "  def call(self, x):\n",
    "\n",
    "    x = self.conv1(x)\n",
    "    x = self.conv2(x)\n",
    "    x = self.conv3(x)\n",
    "\n",
    "    x = self.flatten(x)\n",
    "\n",
    "    x = self.dense1(x)\n",
    "    x = self.dense2(x)\n",
    "    return x\n",
    "    \n",
    "model = LeNet()"
   ]
  },
  {
   "cell_type": "code",
   "execution_count": 7,
   "metadata": {},
   "outputs": [
    {
     "name": "stdout",
     "output_type": "stream",
     "text": [
      "Downloading data from https://storage.googleapis.com/tensorflow/tf-keras-datasets/mnist.npz\n",
      "11490434/11490434 [==============================] - 7s 1us/step\n",
      "tf.Tensor(2.2914674, shape=(), dtype=float32)\n"
     ]
    }
   ],
   "source": [
    "model = LeNet()\n",
    "\n",
    "x = tf.random.normal(shape=(32, 28, 28, 1))\n",
    "predictions = model(x)\n",
    "\n",
    "\n",
    "(train_images, train_labels), _ = mnist.load_data()\n",
    "train_images = np.expand_dims(train_images, axis=3).astype(np.float32)\n",
    "train_labels = train_labels.astype(np.int32)\n",
    "\n",
    "train_ds = tf.data.Dataset.from_tensor_slices((train_images, train_labels))\n",
    "train_ds = train_ds.batch(32)\n",
    "\n",
    "model = LeNet()\n",
    "loss_object = SparseCategoricalCrossentropy()\n",
    "\n",
    "for images, labels in train_ds:\n",
    "  predictions = model(images)\n",
    "  loss = loss_object(labels, predictions)\n",
    "  print(loss)\n",
    "\n",
    "  break"
   ]
  },
  {
   "cell_type": "code",
   "execution_count": null,
   "metadata": {},
   "outputs": [],
   "source": []
  }
 ],
 "metadata": {
  "kernelspec": {
   "display_name": "God",
   "language": "python",
   "name": "python3"
  },
  "language_info": {
   "codemirror_mode": {
    "name": "ipython",
    "version": 3
   },
   "file_extension": ".py",
   "mimetype": "text/x-python",
   "name": "python",
   "nbconvert_exporter": "python",
   "pygments_lexer": "ipython3",
   "version": "3.7.16"
  },
  "orig_nbformat": 4
 },
 "nbformat": 4,
 "nbformat_minor": 2
}
