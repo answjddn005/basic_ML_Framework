{
 "cells": [
  {
   "cell_type": "code",
   "execution_count": 1,
   "metadata": {},
   "outputs": [
    {
     "name": "stdout",
     "output_type": "stream",
     "text": [
      "pooled_max(tensorflow): (1, 2, 2, 3)\n",
      "[[[ 1.912522   -0.26688984]\n",
      "  [ 0.35166627  0.27987194]]\n",
      "\n",
      " [[-0.23428167  0.93804544]\n",
      "  [ 0.45764503  1.2300134 ]]\n",
      "\n",
      " [[ 0.5363828   0.09210803]\n",
      "  [ 0.11198822  0.23297155]]]\n",
      "pooled_max(Manual): (2, 2, 3)\n",
      "[[[ 1.91252196 -0.26688984]\n",
      "  [ 0.35166627  0.27987194]]\n",
      "\n",
      " [[-0.23428167  0.93804544]\n",
      "  [ 0.45764503  1.23001337]]\n",
      "\n",
      " [[ 0.53638279  0.09210803]\n",
      "  [ 0.11198822  0.23297155]]]\n"
     ]
    }
   ],
   "source": [
    "import math\n",
    "import numpy as np\n",
    "import tensorflow as tf\n",
    "\n",
    "from tensorflow.keras.layers import MaxPooling2D\n",
    "\n",
    "N, n_H, n_W, n_C = 1, 5, 5, 3\n",
    "f, s = 2, 2\n",
    "\n",
    "x = tf.random.normal(shape=(N, n_H, n_W, n_C))\n",
    "\n",
    "pool_max = MaxPooling2D(pool_size=f, strides=s)\n",
    "pooled_max = pool_max(x)\n",
    "\n",
    "pooled_max_t = np.transpose(pooled_max.numpy().squeeze(), (2, 0, 1))\n",
    "print('pooled_max(tensorflow): {}\\n{}'.format(pooled_max.shape, \n",
    "                                              pooled_max_t))\n",
    "\n",
    "\n",
    "x = x.numpy().squeeze()\n",
    "(n_H - f)/s + 1\n",
    "n_H_ = math.floor((n_H - f)/s + 1)\n",
    "n_W_ = math.floor((n_W - f)/s + 1)\n",
    "pooled_max_man = np.zeros(shape=(n_H_, n_W_, n_C))\n",
    "\n",
    "for c in range(n_C):\n",
    "  c_image = x[:, :, c]\n",
    "\n",
    "  h_ = 0\n",
    "  for h in range(0, n_H - f + 1, s):\n",
    "    w_ = 0\n",
    "    for w in range(0, n_W - f + 1, s):\n",
    "      window = c_image[h:h+f, w:w+f]\n",
    "      pooled_max_man[h_, w_, c] = np.max(window)\n",
    "\n",
    "      w_ += 1\n",
    "    h_ += 1\n",
    "\n",
    "\n",
    "pooled_max_t = np.transpose(pooled_max_man.squeeze(), (2, 0, 1))\n",
    "print(\"pooled_max(Manual): {}\\n{}\".format(pooled_max_man.shape,\n",
    "                                          pooled_max_t))"
   ]
  },
  {
   "cell_type": "code",
   "execution_count": 3,
   "metadata": {},
   "outputs": [
    {
     "name": "stdout",
     "output_type": "stream",
     "text": [
      "(1, 28, 28, 3)\n",
      "(1, 32, 32, 3)\n"
     ]
    }
   ],
   "source": [
    "from tensorflow.keras.layers import ZeroPadding2D\n",
    "\n",
    "images = tf.random.normal(shape=(1, 28, 28, 3))\n",
    "images_ = np.transpose(images.numpy().squeeze(), (2, 0, 1))\n",
    "# print(images_)\n",
    "print(images.shape)\n",
    "\n",
    "zero_padding = ZeroPadding2D(padding=2)\n",
    "y = zero_padding(images)\n",
    "\n",
    "print(y.shape)\n",
    "# print( np.transpose(y.numpy().squeeze(), (2, 0, 1)))"
   ]
  },
  {
   "cell_type": "code",
   "execution_count": 4,
   "metadata": {},
   "outputs": [
    {
     "name": "stdout",
     "output_type": "stream",
     "text": [
      "(1, 28, 28, 3)\n"
     ]
    }
   ],
   "source": [
    "from tensorflow.keras.layers import Conv2D\n",
    "\n",
    "images = tf.random.normal(shape=(1, 28, 28, 3))\n",
    "conv = Conv2D(filters=1, kernel_size=3, padding='same')\n",
    "y = conv(images)\n",
    "print(images.shape)"
   ]
  },
  {
   "cell_type": "code",
   "execution_count": 5,
   "metadata": {},
   "outputs": [
    {
     "name": "stdout",
     "output_type": "stream",
     "text": [
      "(1, 28, 28, 3)\n",
      "(1, 13, 13, 3)\n"
     ]
    }
   ],
   "source": [
    "from tensorflow.keras.layers import MaxPooling2D\n",
    "\n",
    "images = tf.random.normal(shape=(1, 28, 28, 3))\n",
    "pool = MaxPooling2D(pool_size=3, strides=2)\n",
    "y = pool(images)\n",
    "\n",
    "print(images.shape)\n",
    "print(y.shape)"
   ]
  },
  {
   "cell_type": "code",
   "execution_count": null,
   "metadata": {},
   "outputs": [],
   "source": []
  }
 ],
 "metadata": {
  "kernelspec": {
   "display_name": "God",
   "language": "python",
   "name": "python3"
  },
  "language_info": {
   "codemirror_mode": {
    "name": "ipython",
    "version": 3
   },
   "file_extension": ".py",
   "mimetype": "text/x-python",
   "name": "python",
   "nbconvert_exporter": "python",
   "pygments_lexer": "ipython3",
   "version": "3.7.16"
  },
  "orig_nbformat": 4
 },
 "nbformat": 4,
 "nbformat_minor": 2
}
