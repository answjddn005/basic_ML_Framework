{
 "cells": [
  {
   "cell_type": "markdown",
   "id": "ca2dee48",
   "metadata": {},
   "source": [
    "## TRANSFORMS"
   ]
  },
  {
   "cell_type": "code",
   "execution_count": 16,
   "id": "709902b6",
   "metadata": {},
   "outputs": [],
   "source": [
    "import torch\n",
    "from torchvision import datasets\n",
    "from torchvision.transforms import ToTensor, Lambda"
   ]
  },
  {
   "cell_type": "code",
   "execution_count": 17,
   "id": "50b1c127",
   "metadata": {},
   "outputs": [],
   "source": [
    "ds = datasets.FashionMNIST(\n",
    "    root=\"data\",\n",
    "    train=True,\n",
    "    download=True,\n",
    "    transform=ToTensor(),\n",
    "    target_transform=Lambda(lambda y: torch.zeros(10, dtype=troch.float).scatter_(0, torch.tensor(y),\n",
    "    value=1))\n",
    ")"
   ]
  },
  {
   "cell_type": "code",
   "execution_count": 18,
   "id": "9cc70782",
   "metadata": {},
   "outputs": [],
   "source": [
    "# ToTensor 은 PIL Image나 NumPy ndarray 를 FloatTensor 로 변환하고, Intensity(이미지 픽셀의 크기) 값을 [0., 1.] 범위로 비례하여 scale합니다.\n",
    "\n",
    "# Lambda Transform 은 사용자 정의 lambda 함수를 적용합니다. 여기에서는 정수를 one-hot으로 부호화된 텐서로 바꾸는 함수를 정의합니다. \n",
    "# 이 함수는 먼저 (데이터셋 정답의 개수인) 크기 10짜리 zero tensor을 만들고, scatter_ 를 호출하여 주어진 정답 y 에 해당하는 인덱스에 value=1 을 할당합니다.\n",
    "\n",
    "target_transform = Lambda(lambda y: torch.zeros(\n",
    "    10, dtype=torch.float).scatter_(dim=0, index=torch.tensor(y), value=1))"
   ]
  },
  {
   "cell_type": "markdown",
   "id": "bb55d75e",
   "metadata": {},
   "source": [
    "## BUILD THE NEURAL NETWORK"
   ]
  },
  {
   "cell_type": "code",
   "execution_count": 33,
   "id": "0e5f1562",
   "metadata": {},
   "outputs": [],
   "source": [
    "import os\n",
    "import torch\n",
    "from torch import nn\n",
    "from torch.utils.data import DataLoader\n",
    "from torchvision import datasets, transforms"
   ]
  },
  {
   "cell_type": "code",
   "execution_count": 34,
   "id": "b947d21a",
   "metadata": {},
   "outputs": [
    {
     "name": "stdout",
     "output_type": "stream",
     "text": [
      "Using cpu device\n"
     ]
    }
   ],
   "source": [
    "device = 'cuda' if torch.cuda.is_available() else 'cpu'\n",
    "print('Using {} device'.format(device))"
   ]
  },
  {
   "cell_type": "code",
   "execution_count": 35,
   "id": "bdcf120f",
   "metadata": {},
   "outputs": [],
   "source": [
    "# Define the Class\n",
    "\n",
    "class NeuralNetwork(nn.Module):\n",
    "    def __init__(self):\n",
    "        super(NeuralNetwork, self).__init__()\n",
    "        self.flatten = nn.Flatten()\n",
    "        self.linear_relu_stack = nn.Sequential(\n",
    "            nn.Linear(28*28, 512),\n",
    "            nn.ReLU(),\n",
    "            nn.Linear(512, 512),\n",
    "            nn.ReLU(),\n",
    "            nn.Linear(512, 10),\n",
    "            nn.ReLU()\n",
    "        )\n",
    "\n",
    "    def forward(self, x):\n",
    "        x = self.flatten(x)\n",
    "        logits = self.linear_relu_stack(x)\n",
    "        return logits"
   ]
  },
  {
   "cell_type": "code",
   "execution_count": 36,
   "id": "b170379f",
   "metadata": {
    "scrolled": true
   },
   "outputs": [
    {
     "name": "stdout",
     "output_type": "stream",
     "text": [
      "NeuralNetwork(\n",
      "  (flatten): Flatten(start_dim=1, end_dim=-1)\n",
      "  (linear_relu_stack): Sequential(\n",
      "    (0): Linear(in_features=784, out_features=512, bias=True)\n",
      "    (1): ReLU()\n",
      "    (2): Linear(in_features=512, out_features=512, bias=True)\n",
      "    (3): ReLU()\n",
      "    (4): Linear(in_features=512, out_features=10, bias=True)\n",
      "    (5): ReLU()\n",
      "  )\n",
      ")\n"
     ]
    }
   ],
   "source": [
    "model = NeuralNetwork().to(device)\n",
    "print(model)"
   ]
  },
  {
   "cell_type": "code",
   "execution_count": 37,
   "id": "dcea27d0",
   "metadata": {},
   "outputs": [
    {
     "name": "stdout",
     "output_type": "stream",
     "text": [
      "Predicted class: tensor([2])\n"
     ]
    }
   ],
   "source": [
    "X = torch.rand(1, 28, 28, device=device)\n",
    "logits = model(X)\n",
    "pred_probab = nn.Softmax(dim=1)(logits)\n",
    "y_pred = pred_probab.argmax(1)\n",
    "print(f\"Predicted class: {y_pred}\")"
   ]
  },
  {
   "cell_type": "code",
   "execution_count": 38,
   "id": "d6e02852",
   "metadata": {},
   "outputs": [
    {
     "name": "stdout",
     "output_type": "stream",
     "text": [
      "torch.Size([3, 28, 28])\n"
     ]
    }
   ],
   "source": [
    "# Model Layers\n",
    "\n",
    "input_image = torch.rand(3,28,28)\n",
    "print(input_image.size())"
   ]
  },
  {
   "cell_type": "code",
   "execution_count": 41,
   "id": "fca1f046",
   "metadata": {},
   "outputs": [
    {
     "name": "stdout",
     "output_type": "stream",
     "text": [
      "torch.Size([3, 784])\n"
     ]
    }
   ],
   "source": [
    "# nn.Flaten\n",
    "\n",
    "flatten = nn.Flatten()\n",
    "flat_image = flatten(input_image)\n",
    "print(flat_image.size())"
   ]
  },
  {
   "cell_type": "code",
   "execution_count": 42,
   "id": "8aeb4754",
   "metadata": {},
   "outputs": [
    {
     "name": "stdout",
     "output_type": "stream",
     "text": [
      "torch.Size([3, 20])\n"
     ]
    }
   ],
   "source": [
    "# nn.Linear\n",
    "\n",
    "layer1 = nn.Linear(in_features=28*28, out_features=20)\n",
    "hidden1 = layer1(flat_image)\n",
    "print(hidden1.size())"
   ]
  },
  {
   "cell_type": "code",
   "execution_count": 43,
   "id": "7f61c6ef",
   "metadata": {
    "scrolled": true
   },
   "outputs": [
    {
     "name": "stdout",
     "output_type": "stream",
     "text": [
      "Before ReLU: tensor([[ 0.0488,  0.3249, -0.0247, -0.2240,  0.2316,  0.4888,  0.1591,  0.0431,\n",
      "          0.3142,  0.3149, -0.6614,  0.0369,  0.4973, -0.4354, -0.4046, -0.1649,\n",
      "         -0.4264, -0.0483, -0.7611,  0.2457],\n",
      "        [ 0.2215,  0.2788, -0.0804, -0.1715,  0.1581,  0.3647,  0.2232, -0.3929,\n",
      "          0.5055,  0.0333, -0.8748, -0.2993,  0.6857, -0.2859, -0.1222, -0.1870,\n",
      "          0.1875,  0.1448, -0.4415,  0.7327],\n",
      "        [ 0.0217,  0.2126,  0.3172, -0.0883, -0.0766,  0.2099,  0.1806, -0.3053,\n",
      "          0.4179, -0.1914, -0.5641,  0.1521,  0.4418, -0.2827, -0.5237, -0.2238,\n",
      "         -0.2590,  0.1822, -0.5627,  0.7322]], grad_fn=<AddmmBackward>)\n",
      "\n",
      "\n",
      "After ReLU: tensor([[0.0488, 0.3249, 0.0000, 0.0000, 0.2316, 0.4888, 0.1591, 0.0431, 0.3142,\n",
      "         0.3149, 0.0000, 0.0369, 0.4973, 0.0000, 0.0000, 0.0000, 0.0000, 0.0000,\n",
      "         0.0000, 0.2457],\n",
      "        [0.2215, 0.2788, 0.0000, 0.0000, 0.1581, 0.3647, 0.2232, 0.0000, 0.5055,\n",
      "         0.0333, 0.0000, 0.0000, 0.6857, 0.0000, 0.0000, 0.0000, 0.1875, 0.1448,\n",
      "         0.0000, 0.7327],\n",
      "        [0.0217, 0.2126, 0.3172, 0.0000, 0.0000, 0.2099, 0.1806, 0.0000, 0.4179,\n",
      "         0.0000, 0.0000, 0.1521, 0.4418, 0.0000, 0.0000, 0.0000, 0.0000, 0.1822,\n",
      "         0.0000, 0.7322]], grad_fn=<ReluBackward0>)\n"
     ]
    }
   ],
   "source": [
    "# nn.ReLU\n",
    "\n",
    "relu = nn.ReLU()\n",
    "print(f\"Before ReLU: {hidden1}\\n\\n\")\n",
    "hidden1 = relu(hidden1)\n",
    "print(f\"After ReLU: {hidden1}\")\n"
   ]
  },
  {
   "cell_type": "code",
   "execution_count": 48,
   "id": "4a9d5e29",
   "metadata": {},
   "outputs": [],
   "source": [
    "# nn.Sequential\n",
    "\n",
    "seq_modules = nn.Sequential(\n",
    "    flatten,\n",
    "    layer1,\n",
    "    nn.ReLU(),\n",
    "    nn.Linear(20, 10)\n",
    ")\n",
    "input_image = torch.rand(3,28,28)\n",
    "logits = seq_modules(input_image)"
   ]
  },
  {
   "cell_type": "code",
   "execution_count": 49,
   "id": "786bd40e",
   "metadata": {},
   "outputs": [],
   "source": [
    "# nn.Softmax\n",
    "\n",
    "softmax = nn.Softmax(dim=1)\n",
    "pred_probab = softmax(logits)"
   ]
  },
  {
   "cell_type": "code",
   "execution_count": 50,
   "id": "f0f536f8",
   "metadata": {
    "scrolled": true
   },
   "outputs": [
    {
     "name": "stdout",
     "output_type": "stream",
     "text": [
      "Model structure:  NeuralNetwork(\n",
      "  (flatten): Flatten(start_dim=1, end_dim=-1)\n",
      "  (linear_relu_stack): Sequential(\n",
      "    (0): Linear(in_features=784, out_features=512, bias=True)\n",
      "    (1): ReLU()\n",
      "    (2): Linear(in_features=512, out_features=512, bias=True)\n",
      "    (3): ReLU()\n",
      "    (4): Linear(in_features=512, out_features=10, bias=True)\n",
      "    (5): ReLU()\n",
      "  )\n",
      ") \n",
      "\n",
      "\n",
      "Layer: linear_relu_stack.0.weight | Size: torch.Size([512, 784]) | Values: tensor([[ 0.0002, -0.0325,  0.0195,  ...,  0.0333,  0.0251,  0.0059],\n",
      "        [ 0.0159, -0.0342, -0.0005,  ...,  0.0346,  0.0253, -0.0074]],\n",
      "       grad_fn=<SliceBackward>) \n",
      "\n",
      "Layer: linear_relu_stack.0.bias | Size: torch.Size([512]) | Values: tensor([0.0193, 0.0258], grad_fn=<SliceBackward>) \n",
      "\n",
      "Layer: linear_relu_stack.2.weight | Size: torch.Size([512, 512]) | Values: tensor([[-0.0396, -0.0040, -0.0438,  ..., -0.0010,  0.0279,  0.0377],\n",
      "        [ 0.0196, -0.0109,  0.0220,  ...,  0.0333, -0.0144, -0.0003]],\n",
      "       grad_fn=<SliceBackward>) \n",
      "\n",
      "Layer: linear_relu_stack.2.bias | Size: torch.Size([512]) | Values: tensor([-0.0372,  0.0376], grad_fn=<SliceBackward>) \n",
      "\n",
      "Layer: linear_relu_stack.4.weight | Size: torch.Size([10, 512]) | Values: tensor([[-0.0175, -0.0049,  0.0233,  ..., -0.0351, -0.0015,  0.0300],\n",
      "        [ 0.0009,  0.0058, -0.0295,  ..., -0.0355,  0.0431, -0.0242]],\n",
      "       grad_fn=<SliceBackward>) \n",
      "\n",
      "Layer: linear_relu_stack.4.bias | Size: torch.Size([10]) | Values: tensor([ 1.5832e-05, -1.8277e-02], grad_fn=<SliceBackward>) \n",
      "\n"
     ]
    }
   ],
   "source": [
    "# Model Parameters\n",
    "\n",
    "print(\"Model structure: \", model, \"\\n\\n\")\n",
    "\n",
    "for name, param, in model.named_parameters():\n",
    "    print(f\"Layer: {name} | Size: {param.size()} | Values: {param[:2]} \\n\")"
   ]
  }
 ],
 "metadata": {
  "kernelspec": {
   "display_name": "Python 3",
   "language": "python",
   "name": "python3"
  },
  "language_info": {
   "codemirror_mode": {
    "name": "ipython",
    "version": 3
   },
   "file_extension": ".py",
   "mimetype": "text/x-python",
   "name": "python",
   "nbconvert_exporter": "python",
   "pygments_lexer": "ipython3",
   "version": "3.8.8"
  }
 },
 "nbformat": 4,
 "nbformat_minor": 5
}
